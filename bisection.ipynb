{
 "cells": [
  {
   "cell_type": "code",
   "execution_count": 2,
   "metadata": {},
   "outputs": [
    {
     "name": "stdout",
     "output_type": "stream",
     "text": [
      "Root found at x=2.205570\n"
     ]
    }
   ],
   "source": [
    "def f(x):\n",
    "    return 2*x**3-4*x**2-2\n",
    "\n",
    "a = 2\n",
    "b = 3\n",
    "tolerance = 1e-6\n",
    "maxiteration = 100\n",
    "\n",
    "for i in range(maxiteration):\n",
    "    c = (a + b) / 2\n",
    "    if abs(f(c))<tolerance:\n",
    "        print(f\"Root found at x={c:.6f}\")\n",
    "        break\n",
    "    if f(c) * f(a) < 0:\n",
    "        b = c\n",
    "    else:\n",
    "        a = c\n"
   ]
  }
 ],
 "metadata": {
  "kernelspec": {
   "display_name": "Python 3",
   "language": "python",
   "name": "python3"
  },
  "language_info": {
   "codemirror_mode": {
    "name": "ipython",
    "version": 3
   },
   "file_extension": ".py",
   "mimetype": "text/x-python",
   "name": "python",
   "nbconvert_exporter": "python",
   "pygments_lexer": "ipython3",
   "version": "3.11.2"
  },
  "orig_nbformat": 4
 },
 "nbformat": 4,
 "nbformat_minor": 2
}
