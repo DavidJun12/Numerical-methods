{
 "cells": [
  {
   "cell_type": "code",
   "execution_count": 2,
   "metadata": {},
   "outputs": [
    {
     "name": "stdout",
     "output_type": "stream",
     "text": [
      "Root found at 2.205569\n"
     ]
    }
   ],
   "source": [
    "def f(x):\n",
    "    return 2*x**3-4*x**2-2\n",
    "\n",
    "def df(x):\n",
    "    return 6*x**2-8*x\n",
    "\n",
    "x0 = 1\n",
    "tol = 1e-6\n",
    "max_iteration = 100\n",
    "\n",
    "for i in range(max_iteration):\n",
    "    x1=x0-f(x0)/df(x0)\n",
    "    if abs(f(x1)) < tol:\n",
    "        print(f\"Root found at {x1:.6f}\")\n",
    "        break\n",
    "    x0 = x1\n",
    "else:\n",
    "    print(\"failed to converge within maximum iterations\")\n"
   ]
  }
 ],
 "metadata": {
  "kernelspec": {
   "display_name": "Python 3",
   "language": "python",
   "name": "python3"
  },
  "language_info": {
   "codemirror_mode": {
    "name": "ipython",
    "version": 3
   },
   "file_extension": ".py",
   "mimetype": "text/x-python",
   "name": "python",
   "nbconvert_exporter": "python",
   "pygments_lexer": "ipython3",
   "version": "3.11.2"
  },
  "orig_nbformat": 4
 },
 "nbformat": 4,
 "nbformat_minor": 2
}
